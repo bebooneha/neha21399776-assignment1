{
  "nbformat": 4,
  "nbformat_minor": 0,
  "metadata": {
    "colab": {
      "provenance": [],
      "authorship_tag": "ABX9TyPMalOUWKU9CDCr/9L4aB41",
      "include_colab_link": true
    },
    "kernelspec": {
      "name": "python3",
      "display_name": "Python 3"
    },
    "language_info": {
      "name": "python"
    }
  },
  "cells": [
    {
      "cell_type": "markdown",
      "metadata": {
        "id": "view-in-github",
        "colab_type": "text"
      },
      "source": [
        "<a href=\"https://colab.research.google.com/github/bebooneha/neha21399776-assignment1/blob/main/assesment1.ipynb\" target=\"_parent\"><img src=\"https://colab.research.google.com/assets/colab-badge.svg\" alt=\"Open In Colab\"/></a>"
      ]
    },
    {
      "cell_type": "markdown",
      "source": [
        "**Energy Consumption Analysis Tool**\n"
      ],
      "metadata": {
        "id": "kKm31CA52zqI"
      }
    },
    {
      "cell_type": "markdown",
      "source": [
        "You are a junior data analyst at EcoSolutions, a company that focuses on promoting energy efficiency and sustainability in households and businesses. Your team aims to provide insights into energy consumption patterns to encourage more efficient energy use. You have been tasked with developing a Python application that allows users to input and track their energy consumption data on a monthly basis. This includes electricity, gas, and water usage. Analyzing these data will help identify opportunities for reducing consumption and saving on utility bills."
      ],
      "metadata": {
        "id": "tiDg8IDL4xho"
      }
    },
    {
      "cell_type": "markdown",
      "source": [
        "** Problem Statement**"
      ],
      "metadata": {
        "id": "um1Al49S4yUN"
      }
    },
    {
      "cell_type": "markdown",
      "source": [
        "As a junior data analyst i need to take a whole year enery consumption data and i need to provide three option to choose with graph with that data."
      ],
      "metadata": {
        "id": "feJvZAWL5ILo"
      }
    },
    {
      "cell_type": "markdown",
      "source": [],
      "metadata": {
        "id": "M6oJ5AAF5yci"
      }
    },
    {
      "cell_type": "markdown",
      "source": [],
      "metadata": {
        "id": "jMHBgBUd5CGh"
      }
    },
    {
      "cell_type": "markdown",
      "source": [],
      "metadata": {
        "id": "PZTR4upH48I6"
      }
    },
    {
      "cell_type": "markdown",
      "source": [],
      "metadata": {
        "id": "BoL5Md5M4RwN"
      }
    },
    {
      "cell_type": "code",
      "execution_count": null,
      "metadata": {
        "id": "hn4gl_j2lUC6"
      },
      "outputs": [],
      "source": [
        "import csv\n",
        "with open(\"utility.csv\", 'w') as utility:\n",
        "  writer = csv.writer(utility)\n",
        "  writer.writerow(['month', 'electricity_usage','electricity_source', 'water_usage', 'gas_usage'])\n",
        "\n",
        "  # ask user for month and sales data\n",
        "  for i in range(3):\n",
        "    month = input(\"Enter month: \")\n",
        "    electricity_usage = int(input(\"Enter electricity usage: \"))\n",
        "    electricity_source = input(\"Enter electricity source: \")\n",
        "    water_usage = int(input(\"Enter water usage: \"))\n",
        "    gas_usage = int(input(\"Enter gas usage: \"))\n",
        "\n",
        "  # write user data to file\n",
        "    writer.writerow([month, electricity_usage, electricity_source, water_usage, gas_usage])\n",
        "\n"
      ]
    },
    {
      "cell_type": "code",
      "source": [
        "\n",
        "months = []\n",
        "electricity_usage = []\n",
        "water_usage = []\n",
        "gas_usage = []\n",
        "\n",
        "with open('utility.csv', 'r') as utility:\n",
        "    csvreader = csv.reader(utility)\n",
        "    next(csvreader)\n",
        "\n",
        "    for row in csvreader:\n",
        "        months.append(row[0])  # Storing months\n",
        "        electricity_usage.append(int(row[1]))\n",
        "        water_usage.append(int(row[3]))  # Storing water usage\n",
        "        gas_usage.append(int(row[4]))"
      ],
      "metadata": {
        "id": "hHab9UIoYeAU"
      },
      "execution_count": null,
      "outputs": []
    },
    {
      "cell_type": "code",
      "source": [
        "import matplotlib.pyplot as plt\n",
        "\n",
        "def plot_monthly_consumption_trend(month, electricity_usage):\n",
        " plt.xlabel('Month')\n",
        " plt.ylabel('Electricity Usage')\n",
        " plt.title('Electricity Usage Trend')\n",
        " plt.show()\n",
        "\n"
      ],
      "metadata": {
        "id": "eLA35LP9ZmnO"
      },
      "execution_count": null,
      "outputs": []
    },
    {
      "cell_type": "code",
      "source": [
        "import matplotlib.pyplot as plt\n",
        "plt.bar(months, electricity_usage, label='Electricity')\n",
        "plt.bar(months, water_usage, label='Water')\n",
        "plt.bar(months, gas_usage, label='Gas')\n",
        "plt.xlabel('Month')\n",
        "plt.ylabel('Usage')\n",
        "plt.title('Energy Consumption Comparison')\n",
        "plt.show()\n"
      ],
      "metadata": {
        "id": "f83IhGmoZq_Z"
      },
      "execution_count": null,
      "outputs": []
    },
    {
      "cell_type": "code",
      "source": [
        "    electricity_total = sum(electricity_usage)\n",
        "    water_total = sum(water_usage)\n",
        "    gas_total = sum(gas_usage)\n",
        "\n",
        "    labels = ['Electricity', 'Water', 'Gas']\n",
        "    totals = [electricity_total, water_total, gas_total]\n",
        "\n",
        "    plt.bar(labels, totals, color=['blue', 'green', 'orange'])\n",
        "    plt.xlabel('Energy Type')\n",
        "    plt.ylabel('Total Consumption')\n",
        "    plt.title('Annual Total Consumption Breakdown by Energy Type')\n",
        "    plt.show()\n"
      ],
      "metadata": {
        "colab": {
          "base_uri": "https://localhost:8080/",
          "height": 472
        },
        "id": "EP7JhGAX5gDW",
        "outputId": "d2987f47-28a8-4511-9638-e4ced7e84b04"
      },
      "execution_count": null,
      "outputs": [
        {
          "output_type": "display_data",
          "data": {
            "text/plain": [
              "<Figure size 640x480 with 1 Axes>"
            ],
            "image/png": "[encoded data removed]"
          },
          "metadata": {}
        }
      ]
    },
    {
      "cell_type": "code",
      "source": [
        " while True:\n",
        "        print(\"\\nSelect Analysis Option:\")\n",
        "        print(\"1. Monthly Electricity Consumption Trend\")\n",
        "        print(\"2. Energy Consumption Comparison\")\n",
        "        print(\"3. Annual Total Consumption Breakdown by Energy Type\")\n",
        "        print(\"4. Exit\")\n",
        "        choice = input(\"Enter your choice (1/2/3/4): \")\n",
        "\n",
        "        if choice == '1':\n",
        "            plot_monthly_consumption_trend(month, electricity_usage)\n",
        "        elif choice == '2':\n",
        "            plt.plot(month, electricity_usage, gas_usage, water_usage)\n",
        "        elif choice == '3':\n",
        "            plt.bar(labels, totals, color=['blue', 'green', 'orange'])\n",
        "        elif choice == '4':\n",
        "            print(\"Exiting...\")\n",
        "            break\n",
        "        else:\n",
        "            print(\"Invalid choice. Please enter a valid option.\")"
      ],
      "metadata": {
        "colab": {
          "base_uri": "https://localhost:8080/",
          "height": 719
        },
        "id": "Ml-uW3s5-lF3",
        "outputId": "bc284f56-90ab-40e0-bfef-c4c157da1961"
      },
      "execution_count": null,
      "outputs": [
        {
          "metadata": {
            "tags": null
          },
          "name": "stdout",
          "output_type": "stream",
          "text": [
            "\n",
            "Select Analysis Option:\n",
            "1. Monthly Electricity Consumption Trend\n",
            "2. Energy Consumption Comparison\n",
            "3. Annual Total Consumption Breakdown by Energy Type\n",
            "4. Exit\n"
          ]
        },
        {
          "data": {
            "image/png": "[encoded data removed]",
            "text/plain": [
              "<Figure size 640x480 with 1 Axes>"
            ]
          },
          "metadata": {},
          "output_type": "display_data"
        },
        {
          "metadata": {
            "tags": null
          },
          "name": "stdout",
          "output_type": "stream",
          "text": [
            "\n",
            "Select Analysis Option:\n",
            "1. Monthly Electricity Consumption Trend\n",
            "2. Energy Consumption Comparison\n",
            "3. Annual Total Consumption Breakdown by Energy Type\n",
            "4. Exit\n"
          ]
        }
      ]
    }
  ]
}