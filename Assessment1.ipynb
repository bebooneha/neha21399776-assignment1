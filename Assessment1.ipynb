{
  "nbformat": 4,
  "nbformat_minor": 0,
  "metadata": {
    "colab": {
      "provenance": [],
      "authorship_tag": "ABX9TyNVobFWKAhmHWnQAMy+CTUS",
      "include_colab_link": true
    },
    "kernelspec": {
      "name": "python3",
      "display_name": "Python 3"
    },
    "language_info": {
      "name": "python"
    }
  },
  "cells": [
    {
      "cell_type": "markdown",
      "metadata": {
        "id": "view-in-github",
        "colab_type": "text"
      },
      "source": [
        "<a href=\"https://colab.research.google.com/github/bebooneha/neha21399776-assignment1/blob/main/Assessment1.ipynb\" target=\"_parent\"><img src=\"https://colab.research.google.com/assets/colab-badge.svg\" alt=\"Open In Colab\"/></a>"
      ]
    },
    {
      "cell_type": "code",
      "execution_count": 4,
      "metadata": {
        "id": "hn4gl_j2lUC6"
      },
      "outputs": [],
      "source": [
        "months=[]\n",
        "electricity_usage=[]\n",
        "gas_usage=[]\n",
        "water_usage=[]\n"
      ]
    },
    {
      "cell_type": "code",
      "source": [
        "for i in range(1, 13):\n",
        "    month = input(f\"Enter month:\")\n",
        "    months.append(month)\n",
        "    electricity = float(input(\"Enter electricity usage: \"))\n",
        "    electricity_usage.append(electricity)\n",
        "    gas = float(input(\"Enter gas usage: \"))\n",
        "    gas_usage.append(gas)\n",
        "    water = float(input(\"Enter water usage: \"))\n",
        "    water_usage.append(water)\n",
        "\n"
      ],
      "metadata": {
        "colab": {
          "base_uri": "https://localhost:8080/"
        },
        "id": "xLSy8depb_DX",
        "outputId": "0b440b02-9f89-42c8-c59d-7d9f1351a9b6"
      },
      "execution_count": null,
      "outputs": [
        {
          "name": "stdout",
          "output_type": "stream",
          "text": [
            "Enter month:jan\n",
            "Enter electricity usage: 120\n",
            "Enter gas usage: 120\n",
            "Enter water usage: 10\n"
          ]
        }
      ]
    }
  ]
}